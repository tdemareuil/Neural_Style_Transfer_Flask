{
 "cells": [
  {
   "cell_type": "markdown",
   "metadata": {},
   "source": [
    "__Goal__: of this notebook is to have a glimpse on how easy it is to play with neural networks with Pytorch and illustrate the expressive power and versatility of neural networks:\n",
    "- We first go through their discriminative power (i.e. classification) on the very classical MNIST data-set. In particular we see how to\n",
    "    - Define a neural model as a torch.nn.Module.\n",
    "    - Have a glimpse at convolutional layers, activations etc...\n",
    "    - Use DataLoader and Data-Augmentation and the intimate link with Stochastic Gradient Descent.\n",
    "    - How to train the model with optimizers.\n",
    "    - Perform inference!\n",
    "\n",
    "- Then we explore neural network representation with fun application like style transfer.\n",
    "    - Load a pre-trained model.\n",
    "    - What the model has learnt at each layer.\n",
    "    - How to define the style transfer problem.\n",
    "    - Play with it!\n",
    "\n",
    "- If we have time we go over auto-encoder to explore the 'latent space' of these models.\n",
    "\n",
    "__Recommended sources__: http://cs231n.github.io/"
   ]
  },
  {
   "cell_type": "markdown",
   "metadata": {},
   "source": [
    "# 1) First Part: Discriminative Network (classification) on MNIST"
   ]
  },
  {
   "cell_type": "markdown",
   "metadata": {},
   "source": [
    "__Load the MNIST dataset__"
   ]
  },
  {
   "cell_type": "code",
   "execution_count": 2,
   "metadata": {},
   "outputs": [],
   "source": [
    "%matplotlib inline\n",
    "import torch\n",
    "import torch.nn as nn\n",
    "import torchvision  # for the datasets.\n",
    "import torchvision.transforms as transforms\n",
    "\n",
    "# Which transformations to apply to each data point when sampling data point.\n",
    "# Here simply transform the data-point into a tensor and normalize it.\n",
    "# A tensor is just a multidimensional matrix!\n",
    "# torch.tensor is 'equivalent' to np.array\n",
    "transform = transforms.Compose([\n",
    "                                torchvision.transforms.ToTensor(),\n",
    "                                torchvision.transforms.Normalize(\n",
    "                                (0.1307,), (0.3081,))\n",
    "                                           ])\n",
    "\n",
    "\n",
    "mnist_train = torchvision.datasets.MNIST('data/', train=True, transform=transform,\n",
    "                                         target_transform=None, download=True)\n",
    "mnist_test = torchvision.datasets.MNIST('data/', train=False, transform=transform,\n",
    "                                        target_transform=None, download=True)\n",
    "\n",
    "\n",
    "batch_size_train = 64  # often a power or 2.  \n",
    "data_loader_train = torch.utils.data.DataLoader(mnist_train,\n",
    "                                                batch_size=batch_size_train,\n",
    "                                                shuffle=True)"
   ]
  },
  {
   "cell_type": "markdown",
   "metadata": {},
   "source": [
    "## <font color=darkred> Convolutional Neural Network </font>\n",
    "\n",
    "In practice, increasing the size of hidden layers is not very effective. \n",
    "It is often a better idea to add more layers. \n",
    "Intuitively, if the observations have a hierarchical structure, adding more layers can be interpreted as a way to learn more levels of abstraction.  For example, in object detection tasks, it is easier to express shapes from edges and objects from shapes, than to express objects from pixels.  Thus, a good design should try to exploit this hierarchy.\n",
    "\n",
    "In particular cases, such as grid-like data (time series, images), the observations can depend on a pattern which can be associated with different locations of the data. \n",
    "For example, an object can be in the middle or the left of the picture. \n",
    "Thus, the model has to be translation invariant: it is easier to learn how to recognize an object independently of its location. \n",
    "\n",
    "When two inputs might contain the same kind of information, then it is useful to share their weights and estimate the weights jointly for those inputs to learn statistical invariants (things that don't change much on average across time or space). \n",
    "Using this concept on images leads to convolutional neural networks (CNNs), on text, it results on recurrent neural networks (RNNs).  When using CNNs, weights are set to a small kernel that is used to perform a convolution across the image.\n",
    "\n",
    "In Keras, the step ``model_ffnn.add(Flatten(input_shape=input_shape))`` destroys the spatial organization of the input but is mandatory before a fully connected step: ``model_ffnn.add(Dense(128, activation='relu'))``. The spatial organization of the input may be preserved before using Flatten by convolution steps such as ``model_cnn.add(Conv2D(32, kernel_size=(3, 3), activation='relu', input_shape=input_shape))``. This layer has 32 outputs, each of which depending on a 3*3 weight matrix.\n",
    "\n",
    "Each output neuron of the next layer is computed as follows (image taken from https://adventuresinmachinelearning.com/convolutional-neural-networks-tutorial-tensorflow/) before computing an elementwise RELU function:\n",
    "<img src=\"./conv.png\">\n",
    "\n",
    "The convolution maps patches of the input image, combined with the convolution kernel, for example\n",
    "$$\n",
    "\\text{output} = \\text{ReLU}(\\text{patch} \\times W + b)\\,.\n",
    "$$\n",
    "\n",
    "Performing the convolution between the image and the weight matrix consists in moving the kernel across the image, and to produce an output for each patch. The way you move across the image is defined by two parameters:\n",
    "\n",
    "- ``Stride``: the stride is the number of pixels you are shifting each time you move your kernel during the convolution.\n",
    "- ``Padding``: defines what happens when the kernel reaches a border of the image when doing the convolution. \n",
    "\"Valid\" padding means that you stop at the edge, while \"Same\" padding allows to go off the edge and pad with zeros so that the width and the height of the output and input tensors are the same.\n",
    "\n",
    "A classical approach is to use a stride of 1 and to combine theoutputs being in some neighborhood. Such an operation combining elements of a tensor is called ``pooling``: ``model_cnn.add(MaxPooling2D(pool_size=(2, 2)))``. Neighborhoods are define by the pooling window dimension (width x height) and the strides you use when moving this window across the image.  Again, a sliding window is applied along the input to produce the output, the most common function applied on each window being the ma function: it aggregates several outputs in a neighborhood $N$ using a max operation: \n",
    "$$\n",
    "\\text{output}'_i = \\max_{j \\in N}\\text{output}_j, \\quad i \\in N.\n",
    "$$\n",
    "The formulas to compute the size of the ouput tensor are the same as for convolution padding and striding: (image taken from https://adventuresinmachinelearning.com/convolutional-neural-networks-tutorial-tensorflow/):\n",
    "<img src=\"maxpool.png\">"
   ]
  },
  {
   "cell_type": "markdown",
   "metadata": {},
   "source": [
    "Dit autrement, au lieu d'aplatir la matrice de données en un vecteur (flatten) comme dans le FFNN, on conserve son \"organisation spatiale\" et on applique non pas une transormation linéaire + activation, mais un produit de convolution, en utilisant un noyau de convolution. Un noyau de convolution (pas de rapport avec le kernel trick) est une petite matrice carrée (3x3 ou 5x5), qu'on applique successivement à chaque voisinage de nos données. On le déplace de gauche à droite et de haut en bas, avec des régles un peu arbitraires dictées par la pratique (et qu'on peut gérer dans les hyperparamètres : autorise-t-on le overlap, etc.). Un déplacement à droite produit une nouvelle colonne dans la matrice de résultats de la couche intermédiaire, un déplacement vertical produit une nouvelle colonne. Les calculs sont plus complexes et plus longs si on chosit un noyau plus gros, qui produit de plus grosses couches intermédiaires.\n",
    "\n",
    "Ainsi, on conserve dans les résultats de la couche convolutionnelle des informations pertinentes liées au voisinage de chaque point. C'est pour cette raison que cette méthode est très utilisée dans le traitement d'image : les pixels à chaque endroit de l'image sont bien liés entre eux. Exemple parlant : avec un FFNN le modèle arrive bien à repérer et reproduire les différentes caractéristiques d'une image, par ex un chat, mais ne garde pas sa structure spatiale, et pourrait donc produire une image désordonnée avec la tête au mauvais endroit, etc.\n",
    "\n",
    "Comme dans le FFNN la dernière couche doit produire un vecteur de taille 10 (si on a 10 classes) avec la proba de chaque classe. On peut d'ailleurs faire se succéder 1 couche convulutionnelle et plusieurs autres couches entièrement liées (feed forward).\n",
    "\n",
    "L'enjeu aujourd'hui dans les réseaux de détection d'image, est de conserver non seulement l'organisation spatiale dans les représentations cachées (à chaque couche du modèle), mais aussi d'extraire avec le modèle des informations comme le flou, le plissé des vêtements, les différences d'éclairage, les contours - cela pour éviter les erreurs de classification (ex: classer différemment le même vêtement car sur une photo il est plissé). En utilisant des CNN complexifiés, avec d'autres fonctions, d'autre transformations, d'autres noyaux, il est possible d'intégrer ces subtilités dans le modèle. Chaque couche représente alors une partie de l'information de l'image. La mode en ce moment est d'analyser les images satellites avec ces méthodes.\n",
    "\n",
    "Le transfert de style, aujourd'hui, est une méthode qui consiste à tirer profit de modèles préentraînés très complexes (entraînés par Google / Facebook, seuls ou presque avec la puissance nécessaire), qui extraient beacoup d'informations des images. On sélectionne un gros modèle entraîné sur des images similaires aux nôtres, et on sélectionne seulement les couches (et donc les paramètres) qui concernent notre problème, puis on fait du fine-tuning pour construire notre nouveau modèle.\n",
    "\n",
    "L'enjeu suivant, aujourd'hui, est de pouvoir expliquer comment fonctionne ce genre de modèle, i.e. quelle est l'influence de chaque paramètre dans le résultat du modèle (ex : quand on essaie de détecter des cancers il faudrait idéalement comprendre précisément comment le modèle fonctionne, pas seulement minimiser l'erreur). Aujourd'hui, ces modèles restent souvent justifiés par la pratique seule.\n",
    "\n",
    "Ce problème est encore complexifié dans le cas du transfert de styles : si on utilise un modèle pré-entraîné très sophistiqué, on leur donne finalement les clés de notre travail, on ne connaît pas forcément le détail de leurs choix dans le training du model (leurs choix éthiques, leur sélection de données, tous leurs choix qui finalement biaisent le modèle). Le nerf de la guerre aujourd'hui n'est plus tellement la puissance de calcul mais l'éthique dans l'utilisation des jeux de données."
   ]
  },
  {
   "cell_type": "code",
   "execution_count": 3,
   "metadata": {},
   "outputs": [],
   "source": [
    "import torch.nn.functional as F\n",
    "\n",
    "# This is the very generic structure for neural models.\n",
    "# nn.Conv2d(nbr_input_channel, nbr_output_channel, size_kernel)\n",
    "# Be careful of the dimension for the First Linear layer (= fully-connected).\n",
    "class LeNet5(nn.Module):\n",
    "    def __init__(self):\n",
    "        # This\n",
    "        super(LeNet5, self).__init__()\n",
    "        self.conv1 = nn.Conv2d(1, 4, (5, 5), padding=2)\n",
    "        self.conv2 = nn.Conv2d(4, 16, (5, 5))\n",
    "        self.lin1 = nn.Linear(16*5*5, 120)\n",
    "        self.lin2 = nn.Linear(120, 84)\n",
    "        self.lin3 = nn.Linear(84, 10)\n",
    "        self.name = 'LeNet5'\n",
    "\n",
    "    def forward(self, x):\n",
    "        # simply define the forward pass.\n",
    "        x = F.relu(F.max_pool2d(self.conv1(x), (2, 2)))\n",
    "        x = F.relu(F.max_pool2d(self.conv2(x), (2, 2)))\n",
    "        x = x.view(-1, 16*5*5)\n",
    "        x = F.relu(self.lin1(x))\n",
    "        x = F.relu(self.lin2(x))\n",
    "        x = self.lin3(x)\n",
    "        # Note that we are outputing \n",
    "        return x"
   ]
  },
  {
   "cell_type": "markdown",
   "metadata": {},
   "source": [
    "__Train the Model__\n"
   ]
  },
  {
   "cell_type": "markdown",
   "metadata": {},
   "source": [
    "#### <font color=darkred> Optimization methods for neural networks (bonus) </font>\n",
    "\n",
    "Today, a few gradient descent algorithms are the most popular:\n",
    "\n",
    "``The ADAptive GRADient`` algorithm introduced by http://www.jmlr.org/papers/volume12/duchi11a/duchi11a.pdf, (Duchi et al. 2011), starts from $w^{(0)}$ and uses a learning rate $\\eta > 0$ and a momentum $\\alpha$ and defines, for all $k\\geqslant 0$ and all $j \\in\\{1, \\ldots , d\\}$, \n",
    "$$\n",
    "w_j^{(k+1)} \\gets w_j^{(k)}  - \\frac{\\eta}{\\sqrt{\\sum_{\\tau=1}^k (\\nabla f (w^{(\\tau)}))_j^2}} (\\nabla f(w^{(k)}))_j\\,.\n",
    "$$\n",
    "The rationale of this method is that different rates are used for all coordinates which is crucial for neural networks in which gradient at different layers can be of different order of magnitude. It is proved in https://arxiv.org/pdf/1806.01811.pdf (Ward et al., 2018) that AdaGrad achieves the same convergence rate as gradient descent with optimal fixed stepsize up to a $\\log$ factor. The adaptive step size grows with the inverse of the gradient magnitudes, so that large gradients have small learning rates and small gradients have\n",
    "large learning rates.\n",
    "\n",
    "``AdaDelta`` Introduced in https://arxiv.org/pdf/1212.5701.pdf (Zeiler, 2012) to reduce the sensitivity to initial conditions of AdaGrad. Indeed, if the initial gradients are large, the learning rates of AdaGrad will be low for all updates which can be overcome by increasing $\\eta$, but making the AdaGrad method highly sensitive to the choice of $\\eta$.  \n",
    "\n",
    "\n",
    "``RMSprop optimizer`` Unpublished method, from the course of http://www.cs.toronto.edu/~tijmen/csc321/slides/lecture_slides_lec6.pdf (Geoff Hinton).\n",
    "\n",
    "\n",
    "``ADAM: Adaptive moment estimation`` Introduced in https://arxiv.org/pdf/1412.6980.pdf (Kingma et al., 2014) and considered as the state-of-the-art to otpimize neural networks (it's the default algorithm in keras), the ADAM procedure is a stochastic gradient descent and updates the parameter estimate as follows. Starting from $m_0 = 0$ and $v_0=0$ and choosing $\\beta_1, \\beta_2, \\eta, \\varepsilon\n",
    " \\in (0,1)$, compute first and second moment estimate \n",
    "$$\n",
    "m_k = \\beta_1 m_{k-1} + (1 - \\beta_1) \\nabla f (w^{(k)}) \\quad  \\mathrm{and} \\quad v_k = \\beta_2 v_{k-1} + (1 - \\beta_2) (\\nabla f (w^{(k)}))^2\\,,\n",
    "$$\n",
    "then, compute the correction terms\n",
    "$$\n",
    "\\hat{m}_k = \\frac{m_k}{1 - \\beta_1^k} \\quad \\hat{v}_k = \\frac{v_k}{1 - \\beta_2^k}\\,,\n",
    "$$\n",
    "and update the parameter estimate with\n",
    "$$\n",
    "w^{(k+1)} = w^{(k)} - \\frac{\\eta}{\\sqrt{\\hat{v}_k}+ \\varepsilon} \\hat{m}_k\\,.\n",
    "$$\n",
    "First convergence results can be found in https://arxiv.org/pdf/1412.6980.pdf (Kingma et al., 2014), but careful: some counter-examples where ADAM algorithm does not converge to the optimum (i.e. a false theorem in Kingma's paper) are given in https://openreview.net/pdf?id=ryQu7f-RZ (Reddi et al., 2018). It doesn't invalidate the global results of the paper, and the fact that this algorithm almost always works in practice - even though most people don't really understand the details (what's in the step size, etc.). See also other recent analysis by https://arxiv.org/abs/1810.02263 (Barakat et al., 2018)."
   ]
  },
  {
   "cell_type": "code",
   "execution_count": null,
   "metadata": {},
   "outputs": [],
   "source": [
    "import torch.optim as optim\n",
    "\n",
    "model = LeNet5()\n",
    "model.train()\n",
    "nbr_epoch = 5  # Number of time we visit the full data set. Up to you and your test loss\n",
    "\n",
    "# Choose on which device to store the tensor (i.e. the tensor of the weights)\n",
    "# Here it does not apply, you train things of cpu, but it is just to observe how easy it is with pytorch\n",
    "# to adapt to the computer infrastructure.\n",
    "if torch.cuda.is_available():\n",
    "    device = 'cuda'\n",
    "else:\n",
    "    device = 'cpu'\n",
    "\n",
    "# Define the loss!\n",
    "criterion = nn.CrossEntropyLoss()  # You can choose many others!\n",
    "# Same as nn.NLLLoss() but this one takes the logsoftmaxes, not the logit...\n",
    "\n",
    "# Choose your optimizer and parameters!\n",
    "# usually there are some guidelines on how to choose the hyper-parameters. Or CV...\n",
    "learning_rate = 0.01\n",
    "momentum = 0.9\n",
    "optimizer = optim.SGD(model.parameters(),\n",
    "                      lr=learning_rate,\n",
    "                      momentum=momentum)\n",
    "\n",
    "for idx_epoch in range(nbr_epoch):\n",
    "    counter = 0\n",
    "    for batch_idx, (data, target) in enumerate(data_loader_train):\n",
    "        # set the data to the right device\n",
    "        data = data.to(device)\n",
    "        target = target.to(device)\n",
    "        # forget the previous gradient.\n",
    "        optimizer.zero_grad()\n",
    "        logit = model(data)\n",
    "        loss = criterion(logit, target)\n",
    "        # compute the gradients!!\n",
    "        loss.backward()\n",
    "        # Essentially do gradient descent, i.e. weight_{t+1} = weight_t - lr* gradient...\n",
    "        optimizer.step()\n",
    "        counter += 1\n",
    "        if counter % 100 == 0:\n",
    "            print('batch {} at epoch {} with loss {}'.format(counter,\n",
    "                                                             idx_epoch,\n",
    "                                                             loss.item()))\n",
    "    # save the model!\n",
    "    # TODO: check that the folder mnist_models/ exists!\n",
    "    torch.save(model.state_dict(), 'mnist_models/' + '_epoch_' + str(idx_epoch))"
   ]
  },
  {
   "cell_type": "markdown",
   "metadata": {},
   "source": [
    "Plus on apprend sur le jeu de train (au fil des epochs / échantillonnages), plus on aura un bon score sur le jeu de test, jusqu'à un certain point : passé un certain point notre accuracy en test va baisser, parce qu'on overfit, i.e. on apprend à bien prédire les aléas sur notre échantillon de train, mais cette précision nuit à nos prédictions sur un échantillon différent. C'est pour cette raison que la test accuracy s'améliore sutr l'échantillon test (voir ci-dessous) jusqu'à l'epoch 3, mais redescend sur l'epoch 4."
   ]
  },
  {
   "cell_type": "markdown",
   "metadata": {},
   "source": [
    "__Evaluate the model__"
   ]
  },
  {
   "cell_type": "code",
   "execution_count": 5,
   "metadata": {},
   "outputs": [
    {
     "name": "stdout",
     "output_type": "stream",
     "text": [
      "test accuracy is 0.978021978021978 at epoch 0\n",
      "test accuracy is 0.974025974025974 at epoch 1\n",
      "test accuracy is 0.988011988011988 at epoch 2\n",
      "test accuracy is 0.99000999000999 at epoch 3\n",
      "test accuracy is 0.989010989010989 at epoch 4\n"
     ]
    }
   ],
   "source": [
    "# accuracy on test of the big network\n",
    "data_loader_test = torch.utils.data.DataLoader(mnist_test,\n",
    "                                               batch_size=1,\n",
    "                                               shuffle=True)\n",
    "\n",
    "def accuracy(model, data_loader_test, nbr=1000):\n",
    "    pos = 0\n",
    "    count = 0\n",
    "    for data, target in data_loader_test:\n",
    "        data = data.to(device)\n",
    "        target = target.to(device)\n",
    "        assert target.shape[0] == 1\n",
    "        if torch.argmax(model(data).squeeze()).item() == target.item():\n",
    "            pos += 1\n",
    "        count += 1\n",
    "        if count > nbr:\n",
    "            break\n",
    "    accuracy = pos/count\n",
    "    return(accuracy)\n",
    "\n",
    "for idx in range(nbr_epoch):\n",
    "    PATH = 'mnist_models/_epoch_{}'.format(idx)\n",
    "    model.load_state_dict(torch.load(PATH))\n",
    "    model.to(device)\n",
    "    model.eval()  # Do it for principle..\n",
    "    acc = accuracy(model, data_loader_test)\n",
    "    print('test accuracy is {} at epoch {}'.format(acc, idx))"
   ]
  },
  {
   "cell_type": "markdown",
   "metadata": {},
   "source": [
    "__How to Data Augmentation in Two lines:__ It is simply small transformation of the images that do not modify the label. For instance\n",
    "- Add some random pixel-wise noise\n",
    "- flip the image\n",
    "- translate the pixel etc..\n",
    "\n",
    "There is a very large variety of possible data-augmentation. When training your network and load batche of data, the data-point will be applied the following transformation:"
   ]
  },
  {
   "cell_type": "code",
   "execution_count": 6,
   "metadata": {},
   "outputs": [],
   "source": [
    "transform = torchvision.transforms.Compose([\n",
    "                                            transforms.RandomHorizontalFlip(0.5),\n",
    "                                            transforms.RandomAffine(degrees=10,\n",
    "                                                                    translate=(0.1, 0.1)),\n",
    "                                           torchvision.transforms.ToTensor(),\n",
    "                                           torchvision.transforms.Normalize(\n",
    "                                            (0.1307,), (0.3081,))\n",
    "                                           ])"
   ]
  },
  {
   "cell_type": "markdown",
   "metadata": {},
   "source": [
    "__How to Randomly Initialize the Parameters:__ Because so far we have not specified what we wanted the initial weights to be!!"
   ]
  },
  {
   "cell_type": "code",
   "execution_count": null,
   "metadata": {},
   "outputs": [],
   "source": [
    "import numpy as np\n",
    "\n",
    "# There are many way to define randomness on the initialization of the weights.\n",
    "def init_weights(m, type_ini='uniform'):\n",
    "    '''\n",
    "    Initialization of neural net.\n",
    "    '''\n",
    "    assert type_ini in ['uniform', 'gaussian', 'general']\n",
    "    # for every Linear layer in a model..\n",
    "    if type(m) == nn.Linear:\n",
    "        if type_ini == 'uniform':\n",
    "            m.weight.data.uniform_(0.0, 1.0)\n",
    "            m.bias.data.fill_(0) # usual practice is to set bias to 0\n",
    "        elif type_ini == 'general':\n",
    "            n = m.in_features\n",
    "            y = 1.0/np.sqrt(n)\n",
    "            m.weight.data.uniform_(-y, y)\n",
    "            m.bias.data.fill_(0)\n",
    "        elif type_ini == 'gaussian':\n",
    "            y = m.in_features\n",
    "            # m.weight.data shoud be taken from a normal distribution\n",
    "            m.weight.data.normal_(0.0, 1/np.sqrt(y))\n",
    "            # m.bias.data should be 0\n",
    "            m.bias.data.fill_(0)\n",
    "\n",
    "model.apply(lambda m: init_weights(m, type_ini='general'))"
   ]
  },
  {
   "cell_type": "markdown",
   "metadata": {},
   "source": [
    "# Second Part: Style Transfert"
   ]
  },
  {
   "cell_type": "markdown",
   "metadata": {},
   "source": [
    "__Goal__: Neural Networks are not just good at classifying, they also provide rich representations of data which can be usefull in a variety of contexts.\n",
    "\n",
    "__Example of Style Transfert__: Write $f_{\\theta_0}$ a trained neural network with parameters $\\theta_0$ (which will not be optimized anymore). And now consider two images: image_content and image_style. We want to change the style of image_content to the style of image_style while keeping the structure of image_content.\n",
    "\n",
    "__One important fact__: Layers of convolutional neural networks encode different information of an image. Each layer output is a different representation of the image. The first layers encodes detailed information (i.e. style) because the networks has not yet mixed up local information. The last layers encode more the content because it mixes the various local structures.\n",
    "\n",
    "__Method__: Take an initial random image $x$ and ask simultaneously that \n",
    " - The deep layers of x via $f_{\\theta}$ matches to the deep layers of image_content : i.e. force $x$ to have the content of image_content.\n",
    " - The Gram matrix of the first layers of x via $f_{\\theta}$ matches to gram matrix of the first layers of image_content : i.e. force $x$ to have the style of image_style.\n",
    " \n",
    "__Technical Aspect__: Optimization is over the input of the neural network, not on its weigths!!\n",
    "\n",
    "__Reference__: \n",
    "- Simonyan et Zisserman (2015). $\\textit{Very Deep Convolutional Networks For Large Scale Image Recognition}.$\n",
    "- Gatys et al. (2015). $\\textit{Image Style Transfer Using Convolutional Neural Networks}.$\n",
    "- https://pytorch.org/tutorials/advanced/neural_style_tutorial.html\n",
    "\n",
    "__Pytorch tips__:\n",
    "- Very easy to work with CPU or GPU via making sure that the tensors are on 'cpu' or 'cuda'.\n",
    "-"
   ]
  },
  {
   "cell_type": "code",
   "execution_count": 2,
   "metadata": {},
   "outputs": [],
   "source": [
    "import numpy as np\n",
    "import matplotlib.pyplot as plt\n",
    "\n",
    "import torchvision.models as models\n",
    "import torch\n",
    "import torch.optim as optim\n",
    "import torch.nn.functional as F\n",
    "import torch.nn as nn\n",
    "import torchvision.transforms as transforms\n",
    "from torchvision.utils import save_image\n",
    "\n",
    "import pdb  # good for debugging!!\n",
    "\n",
    "import copy\n",
    "from PIL import Image  # for image processing!"
   ]
  },
  {
   "cell_type": "markdown",
   "metadata": {},
   "source": [
    "__LOAD CONTENT AND STYLE IMAGE__ Please choose your own images!"
   ]
  },
  {
   "cell_type": "code",
   "execution_count": 5,
   "metadata": {},
   "outputs": [],
   "source": [
    "if torch.cuda.is_available():\n",
    "    device = 'cuda'\n",
    "else:\n",
    "    device = 'cpu'\n",
    "\n",
    "imsize = 128\n",
    "\n",
    "\n",
    "def image_loader(image_name):\n",
    "    loader = transforms.Compose([\n",
    "        transforms.Resize((imsize, imsize)),  # scale imported image\n",
    "        transforms.ToTensor()])  # transform it into a torch tensor\n",
    "    image = Image.open(image_name)\n",
    "    # fake batch dimension required to fit network's input dimensions of (batch_size, channel, H, W)\n",
    "    image = loader(image).unsqueeze(0)\n",
    "    return image.to(device, torch.float)\n",
    "\n",
    "\n",
    "content_img = image_loader('images/content.jpg')\n",
    "style_img = image_loader('images/style.jpg')\n",
    "\n",
    "assert style_img.size() == content_img.size(), \\\n",
    "    \"we need to import style and content images of the same size\""
   ]
  },
  {
   "cell_type": "code",
   "execution_count": 6,
   "metadata": {},
   "outputs": [
    {
     "data": {
      "image/png": "[encoded data removed]",
      "text/plain": [
       "<matplotlib.figure.Figure at 0x10eff9090>"
      ]
     },
     "metadata": {
      "needs_background": "light"
     },
     "output_type": "display_data"
    },
    {
     "data": {
      "image/png": "[encoded data removed]",
      "text/plain": [
       "<matplotlib.figure.Figure at 0x1314637d0>"
      ]
     },
     "metadata": {
      "needs_background": "light"
     },
     "output_type": "display_data"
    }
   ],
   "source": [
    "def imshow(tensor, title=None):\n",
    "    image = tensor.cpu().clone()  # we clone the tensor to not do changes on it\n",
    "    image = image.squeeze(0)      # remove the fake batch dimension\n",
    "    image = transforms.ToPILImage()(image)\n",
    "    plt.imshow(image)\n",
    "    if title is not None:\n",
    "        plt.title(title)\n",
    "    plt.pause(0.001) # pause a bit so that plots are updated\n",
    "\n",
    "\n",
    "plt.figure()\n",
    "imshow(style_img, title='Style Image')\n",
    "\n",
    "plt.figure()\n",
    "imshow(content_img, title='Content Image')"
   ]
  },
  {
   "cell_type": "markdown",
   "metadata": {},
   "source": [
    "__Load pre-trained model__\n"
   ]
  },
  {
   "cell_type": "code",
   "execution_count": 7,
   "metadata": {},
   "outputs": [],
   "source": [
    "# two modes: eval() or train()\n",
    "# may not be usefull here but it is a good habit to distinguish!\n",
    "model = models.vgg19(pretrained=True).features.to(device).eval()"
   ]
  },
  {
   "cell_type": "markdown",
   "metadata": {},
   "source": [
    "__Defining the content and Style Loss:__ \n",
    "- Given an image $x$ and a chosen $\\text{content layer}$, write $f_c(x)$ the activations of the neural network at this layer. The content loss is then $L_c(x) = ||f_c(x) - f_c(img_{content})||_2^2$.\n",
    "- For the style write $f_s(x)$ the activations of the neural network at a chosen layer that is supposed to capture the style. The style loss is then $L_s(x) = ||G(f_s(x)) - G(f_s(img_{style}))||$, where $G()$ compute the gram matrix of the layer $f_s(x)$."
   ]
  },
  {
   "cell_type": "code",
   "execution_count": 8,
   "metadata": {},
   "outputs": [],
   "source": [
    "class ContentLoss(nn.Module):\n",
    "    def __init__(self, target,):\n",
    "        super(ContentLoss, self).__init__()\n",
    "\n",
    "        self.target = target.detach()\n",
    "\n",
    "    def forward(self, input):\n",
    "        self.loss = F.mse_loss(input, self.target)\n",
    "        return input\n",
    "\n",
    "\n",
    "class StyleLoss(nn.Module):\n",
    "\n",
    "    def gram_matrix(self, input):\n",
    "        a, b, c, d = input.size()  # a=batch size(=1)\n",
    "        # b=number of feature maps\n",
    "        # (c,d)=dimensions of a f. map (N=c*d)\n",
    "\n",
    "        features = input.view(a * b, c * d)  # resise F_XL into \\hat F_XL\n",
    "\n",
    "        G = torch.mm(features, features.t())  # compute the gram product\n",
    "\n",
    "        # we 'normalize' the values of the gram matrix\n",
    "        # by dividing by the number of element in each feature maps.\n",
    "        return G.div(a * b * c * d)\n",
    "\n",
    "    def __init__(self, target_feature):\n",
    "        super(StyleLoss, self).__init__()\n",
    "        self.target = self.gram_matrix(target_feature).detach()\n",
    "\n",
    "    def forward(self, input):\n",
    "        G = self.gram_matrix(input)\n",
    "        self.loss = F.mse_loss(G, self.target)\n",
    "        return input"
   ]
  },
  {
   "cell_type": "markdown",
   "metadata": {},
   "source": [
    "__Normalization term__ \n",
    "When training VGG the input images are normalized. This normalization is hence reproduced."
   ]
  },
  {
   "cell_type": "code",
   "execution_count": 8,
   "metadata": {},
   "outputs": [],
   "source": [
    "normalization_mean = torch.tensor([0.485, 0.456, 0.406]).to(device)\n",
    "normalization_std = torch.tensor([0.229, 0.224, 0.225]).to(device)\n",
    "\n",
    "\n",
    "# create a module to normalize input image so we can easily put it in a\n",
    "# nn.Sequential\n",
    "class Normalization(nn.Module):\n",
    "    def __init__(self, mean, std):\n",
    "        super(Normalization, self).__init__()\n",
    "        # .view the mean and std to make them [C x 1 x 1] so that they can\n",
    "        # directly work with image Tensor of shape [B x C x H x W].\n",
    "        # B is batch size. C is number of channels. H is height and W is width.\n",
    "        self.mean = torch.tensor(mean).view(-1, 1, 1)\n",
    "        self.std = torch.tensor(std).view(-1, 1, 1)\n",
    "\n",
    "    def forward(self, img):\n",
    "        # normalize img\n",
    "        return (img - self.mean) / self.std"
   ]
  },
  {
   "cell_type": "markdown",
   "metadata": {},
   "source": [
    "__Define what are the style and content layers__ The method $\\textit{get_style_model_and_losses}$ defines a way to define the loss associated to each chosen content or style layers."
   ]
  },
  {
   "cell_type": "code",
   "execution_count": 9,
   "metadata": {},
   "outputs": [],
   "source": [
    "# desired depth layers to compute style/content losses :\n",
    "content_layers_default = ['conv_4']\n",
    "style_layers_default = ['conv_1', 'conv_2', 'conv_3', 'conv_4', 'conv_5']\n",
    "\n",
    "\n",
    "def get_style_model_and_losses(cnn, normalization_mean, normalization_std,\n",
    "                               style_img, content_img,\n",
    "                               content_layers=content_layers_default,\n",
    "                               style_layers=style_layers_default):\n",
    "    cnn = copy.deepcopy(cnn)\n",
    "\n",
    "    # normalization module\n",
    "    normalization = Normalization(normalization_mean, normalization_std).to(device)\n",
    "\n",
    "    # just in order to have an iterable access to or list of content/syle\n",
    "    # losses\n",
    "    content_losses = []\n",
    "    style_losses = []\n",
    "\n",
    "    # assuming that cnn is a nn.Sequential, so we make a new nn.Sequential\n",
    "    # to put in modules that are supposed to be activated sequentially\n",
    "    model = nn.Sequential(normalization)\n",
    "\n",
    "    i = 0  # increment every time we see a conv\n",
    "    for layer in cnn.children():\n",
    "        if isinstance(layer, nn.Conv2d):\n",
    "            i += 1\n",
    "            name = 'conv_{}'.format(i)\n",
    "        elif isinstance(layer, nn.ReLU):\n",
    "            name = 'relu_{}'.format(i)\n",
    "            layer = nn.ReLU(inplace=False)\n",
    "        elif isinstance(layer, nn.MaxPool2d):\n",
    "            name = 'pool_{}'.format(i)\n",
    "        elif isinstance(layer, nn.BatchNorm2d):\n",
    "            name = 'bn_{}'.format(i)\n",
    "        else:\n",
    "            raise RuntimeError('Unrecognized layer')\n",
    "\n",
    "        model.add_module(name, layer)\n",
    "\n",
    "        if name in content_layers:\n",
    "            # add content loss:\n",
    "            target = model(content_img).detach()\n",
    "            content_loss = ContentLoss(target)\n",
    "            model.add_module(\"content_loss_{}\".format(i), content_loss)\n",
    "            content_losses.append(content_loss)\n",
    "\n",
    "        if name in style_layers:\n",
    "            # add style loss:\n",
    "            target_feature = model(style_img).detach()\n",
    "            style_loss = StyleLoss(target_feature)\n",
    "            model.add_module(\"style_loss_{}\".format(i), style_loss)\n",
    "            style_losses.append(style_loss)\n",
    "\n",
    "    # now we trim off the layers after the last content and style losses\n",
    "    for i in range(len(model) - 1, -1, -1):\n",
    "        if isinstance(model[i], ContentLoss) or isinstance(model[i], StyleLoss):\n",
    "            break\n",
    "\n",
    "    model = model[:(i + 1)]\n",
    "\n",
    "    return model, style_losses, content_losses"
   ]
  },
  {
   "cell_type": "markdown",
   "metadata": {},
   "source": [
    "__Initialize the optimization__\n"
   ]
  },
  {
   "cell_type": "code",
   "execution_count": null,
   "metadata": {},
   "outputs": [],
   "source": [
    "# INITIALIZATION\n",
    "# starting from content image.\n",
    "input_img = content_img.clone()\n",
    "# starting from noise -> need a lot more data.\n",
    "# input_img = torch.randn(content_img.data.size(), device=device)\n",
    "\n",
    "# OPTIMIZATION PARAMETERS\n",
    "optimizer = optim.Adam([input_img.requires_grad_()], lr=0.005)\n",
    "num_steps = 3000\n",
    "style_weight = 500000\n",
    "content_weight = 1\n",
    "\n",
    "model, style_losses, content_losses = get_style_model_and_losses(model,\n",
    "        normalization_mean, normalization_std, style_img, content_img)"
   ]
  },
  {
   "cell_type": "code",
   "execution_count": null,
   "metadata": {},
   "outputs": [],
   "source": [
    "counter = 0\n",
    "while counter <= num_steps:\n",
    "    # correct the values of updated input image\n",
    "    input_img.data.clamp_(0, 1)\n",
    "\n",
    "    optimizer.zero_grad()\n",
    "    model(input_img)\n",
    "    style_score = 0\n",
    "    content_score = 0\n",
    "\n",
    "    for sl in style_losses:\n",
    "        style_score += sl.loss\n",
    "    for cl in content_losses:\n",
    "        content_score += cl.loss\n",
    "\n",
    "    style_score *= style_weight\n",
    "    content_score *= content_weight\n",
    "\n",
    "    loss = style_score + content_score\n",
    "    loss.backward()  # compute the gradients.\n",
    "\n",
    "    # plot the loss from time to time...\n",
    "    counter += 1\n",
    "    if counter % 50 == 0:\n",
    "        print(\"run {}:\".format(counter))\n",
    "        print('Style Loss : {:4f} Content Loss: {:4f}'.format(\n",
    "            style_score.item(), content_score.item()))\n",
    "        print()\n",
    "\n",
    "    if counter % 100 == 0:\n",
    "        img_plot = input_img.clone().detach().data\n",
    "        plt.figure()\n",
    "        imshow(img_plot, title='Output Image')\n",
    "        save_image(img_plot,\n",
    "                   'images/in_between/img_' + str(counter) + '.jpg',\n",
    "                   nrow=4)\n",
    "        plt.show()\n",
    "    # gradient descent step\n",
    "    optimizer.step()\n",
    "\n",
    "# a last correction...\n",
    "input_img.data.clamp_(0, 1)"
   ]
  },
  {
   "cell_type": "markdown",
   "metadata": {},
   "source": [
    "Output is the image at each step."
   ]
  },
  {
   "cell_type": "markdown",
   "metadata": {},
   "source": [
    "__Observe the result__"
   ]
  },
  {
   "cell_type": "code",
   "execution_count": null,
   "metadata": {},
   "outputs": [],
   "source": [
    "plt.figure()\n",
    "imshow(input_img, title='Output Image')\n",
    "plt.ioff()\n",
    "plt.show()"
   ]
  },
  {
   "cell_type": "markdown",
   "metadata": {},
   "source": [
    "__Make a GIF out of the image__"
   ]
  },
  {
   "cell_type": "code",
   "execution_count": null,
   "metadata": {},
   "outputs": [],
   "source": [
    "frames = [Image.open('images/in_between/img_' + str(i*100) + '.jpg') for i in range(1, 30)]\n",
    "frames[0].save('animation.gif',\n",
    "               format='GIF',\n",
    "               append_images=frames[1:],\n",
    "               save_all=True,\n",
    "               duration=100,\n",
    "               loop=0)"
   ]
  },
  {
   "cell_type": "code",
   "execution_count": null,
   "metadata": {},
   "outputs": [],
   "source": []
  }
 ],
 "metadata": {
  "kernelspec": {
   "display_name": "Python 3",
   "language": "python",
   "name": "python3"
  },
  "language_info": {
   "codemirror_mode": {
    "name": "ipython",
    "version": 3
   },
   "file_extension": ".py",
   "mimetype": "text/x-python",
   "name": "python",
   "nbconvert_exporter": "python",
   "pygments_lexer": "ipython3",
   "version": "3.7.6"
  },
  "toc": {
   "base_numbering": 1,
   "nav_menu": {},
   "number_sections": true,
   "sideBar": true,
   "skip_h1_title": false,
   "title_cell": "Table of Contents",
   "title_sidebar": "Contents",
   "toc_cell": false,
   "toc_position": {},
   "toc_section_display": true,
   "toc_window_display": false
  },
  "varInspector": {
   "cols": {
    "lenName": 16,
    "lenType": 16,
    "lenVar": 40
   },
   "kernels_config": {
    "python": {
     "delete_cmd_postfix": "",
     "delete_cmd_prefix": "del ",
     "library": "var_list.py",
     "varRefreshCmd": "print(var_dic_list())"
    },
    "r": {
     "delete_cmd_postfix": ") ",
     "delete_cmd_prefix": "rm(",
     "library": "var_list.r",
     "varRefreshCmd": "cat(var_dic_list()) "
    }
   },
   "types_to_exclude": [
    "module",
    "function",
    "builtin_function_or_method",
    "instance",
    "_Feature"
   ],
   "window_display": false
  }
 },
 "nbformat": 4,
 "nbformat_minor": 2
}
